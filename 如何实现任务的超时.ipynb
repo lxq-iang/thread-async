{
 "cells": [
  {
   "cell_type": "markdown",
   "metadata": {},
   "source": [
    "## 多线程的超时"
   ]
  },
  {
   "cell_type": "code",
   "execution_count": 1,
   "metadata": {
    "vscode": {
     "languageId": "polyglot-notebook"
    }
   },
   "outputs": [
    {
     "name": "stdout",
     "output_type": "stream",
     "text": [
      "Foo start...\n",
      "Foo end...\n",
      "Done.\n"
     ]
    }
   ],
   "source": [
    "using System.Threading;\n",
    "var thread = new Thread(Foo);\n",
    "\n",
    "thread.Start();\n",
    "\n",
    "if(!thread.Join(TimeSpan.FromMilliseconds(2000)))\n",
    "{\n",
    "    thread.Interrupt();\n",
    "}\n",
    "\n",
    "Console.WriteLine(\"Done.\");\n",
    "\n",
    "void Foo()\n",
    "{\n",
    "    try\n",
    "    {\n",
    "        Console.WriteLine(\"Foo start...\");\n",
    "        Thread.Sleep(500);\n",
    "        Console.WriteLine(\"Foo end...\");\n",
    "    }\n",
    "    catch(ThreadInterruptedException)\n",
    "    {\n",
    "        Console.WriteLine(\"Foo interrupted...\");\n",
    "    }\n",
    "}"
   ]
  },
  {
   "cell_type": "markdown",
   "metadata": {},
   "source": [
    "## 异步编程的超时"
   ]
  },
  {
   "cell_type": "code",
   "execution_count": 6,
   "metadata": {
    "vscode": {
     "languageId": "polyglot-notebook"
    }
   },
   "outputs": [
    {
     "name": "stdout",
     "output_type": "stream",
     "text": [
      "Foo start...\n",
      "Foo interrupted...\n",
      "Timeout...\n",
      "Done.\n"
     ]
    }
   ],
   "source": [
    "var cts = new CancellationTokenSource();\n",
    "var task = FooAsync(cts.Token);\n",
    "var completedTask = await Task.WhenAny(task, Task.Delay(2000));\n",
    "if(completedTask != task)\n",
    "{\n",
    "    cts.Cancel();\n",
    "    await task;\n",
    "    Console.WriteLine(\"Timeout...\");\n",
    "}\n",
    "\n",
    "//await Task.Delay(4000);\n",
    "Console.WriteLine(\"Done.\");\n",
    "\n",
    "\n",
    "\n",
    "async Task FooAsync(CancellationToken token)\n",
    "{\n",
    "    try\n",
    "    {\n",
    "        Console.WriteLine(\"Foo start...\");\n",
    "        await Task.Delay(5000,token);\n",
    "        Console.WriteLine(\"Foo end...\");\n",
    "    }\n",
    "    catch(OperationCanceledException)\n",
    "    {\n",
    "        Console.WriteLine(\"Foo interrupted...\");\n",
    "    }\n",
    "}"
   ]
  },
  {
   "cell_type": "code",
   "execution_count": 9,
   "metadata": {
    "vscode": {
     "languageId": "polyglot-notebook"
    }
   },
   "outputs": [],
   "source": [
    "//public static class AsyncExceptions;\n",
    "public static async Task TimeoutAfter(this Task task, TimeSpan timeout)\n",
    "{\n",
    "    using var cts = new CancellationTokenSource();\n",
    "    var completedTask = await Task.WhenAny(task,Task.Delay(timeout,cts.Token));\n",
    "    if(completedTask != task)\n",
    "    {\n",
    "        cts.Cancel();\n",
    "        throw new TimeoutException();\n",
    "    }\n",
    "    await task;\n",
    "}"
   ]
  },
  {
   "cell_type": "code",
   "execution_count": 8,
   "metadata": {
    "vscode": {
     "languageId": "polyglot-notebook"
    }
   },
   "outputs": [
    {
     "name": "stdout",
     "output_type": "stream",
     "text": [
      "Foo start...\n",
      "Timeout!\n",
      "Done!\n"
     ]
    }
   ],
   "source": [
    "try\n",
    "{\n",
    "    await FooAsync(CancellationToken.None).TimeoutAfter(TimeSpan.FromSeconds(3));\n",
    "    Console.WriteLine(\"Success!\");\n",
    "}\n",
    "catch(TimeoutException)\n",
    "{\n",
    "    Console.WriteLine(\"Timeout!\");\n",
    "}\n",
    "Console.WriteLine(\"Done!\");"
   ]
  },
  {
   "cell_type": "code",
   "execution_count": 13,
   "metadata": {
    "vscode": {
     "languageId": "polyglot-notebook"
    }
   },
   "outputs": [
    {
     "name": "stdout",
     "output_type": "stream",
     "text": [
      "Foo start...\n",
      "Timeout!\n",
      "Done!\n",
      "Foo interrupted...\n"
     ]
    }
   ],
   "source": [
    "var cts = new CancellationTokenSource();\n",
    "try\n",
    "{\n",
    "    //异步任务超时,.net6以后提供\n",
    "    await FooAsync(cts.Token).WaitAsync(TimeSpan.FromSeconds(2));\n",
    "    Console.WriteLine(\"Success!\");\n",
    "}\n",
    "catch(TimeoutException)\n",
    "{\n",
    "    cts.Cancel();\n",
    "    Console.WriteLine(\"Timeout!\");\n",
    "}\n",
    "finally\n",
    "{\n",
    "    cts.Dispose();\n",
    "}\n",
    "Console.WriteLine(\"Done!\");"
   ]
  },
  {
   "cell_type": "code",
   "execution_count": null,
   "metadata": {
    "vscode": {
     "languageId": "polyglot-notebook"
    }
   },
   "outputs": [],
   "source": []
  }
 ],
 "metadata": {
  "kernelspec": {
   "display_name": ".NET (C#)",
   "language": "C#",
   "name": ".net-csharp"
  },
  "language_info": {
   "name": "csharp"
  },
  "polyglot_notebook": {
   "kernelInfo": {
    "defaultKernelName": "csharp",
    "items": [
     {
      "aliases": [],
      "name": "csharp"
     }
    ]
   }
  }
 },
 "nbformat": 4,
 "nbformat_minor": 2
}
