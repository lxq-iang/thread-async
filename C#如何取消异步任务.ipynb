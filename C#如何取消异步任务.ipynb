{
 "cells": [
  {
   "cell_type": "markdown",
   "metadata": {},
   "source": [
    "## 任务如何取消"
   ]
  },
  {
   "cell_type": "markdown",
   "metadata": {},
   "source": [
    "<font color=\"pink\">CancellationTokenSource + CancellationToken</font>\n"
   ]
  },
  {
   "cell_type": "markdown",
   "metadata": {},
   "source": [
    "CTS实现了IDisposable接口，所以需要释放"
   ]
  },
  {
   "cell_type": "code",
   "execution_count": 3,
   "metadata": {
    "dotnet_interactive": {
     "language": "csharp"
    },
    "polyglot_notebook": {
     "kernelName": "csharp"
    },
    "vscode": {
     "languageId": "polyglot-notebook"
    }
   },
   "outputs": [
    {
     "name": "stdout",
     "output_type": "stream",
     "text": [
      "TaskCanceled\n",
      "Task completed in 3012ms\n"
     ]
    }
   ],
   "source": [
    "using System.Diagnostics;\n",
    "using System.Threading;\n",
    "\n",
    "var cts = new CancellationTokenSource();\n",
    "var token = cts.Token;\n",
    "\n",
    "var sw = Stopwatch.StartNew();\n",
    "try\n",
    "{\n",
    "    var cancelTask = Task.Run(async () => {\n",
    "        await Task.Delay(3000);\n",
    "        cts.Cancel();\n",
    "    });\n",
    "    await Task.WhenAll(Task.Delay(10000,token),cancelTask);\n",
    "}\n",
    "catch(TaskCanceledException ex)\n",
    "{\n",
    "    Console.WriteLine(\"TaskCanceled\");\n",
    "}finally\n",
    "{\n",
    "    cts.Dispose();\n",
    "}\n",
    "\n",
    "Console.WriteLine($\"Task completed in {sw.ElapsedMilliseconds}ms\");"
   ]
  },
  {
   "cell_type": "markdown",
   "metadata": {},
   "source": [
    "CTS还可以传入一个TimeSpan，表示超时后自动取消，或调用CancelAfter()方法"
   ]
  },
  {
   "cell_type": "code",
   "execution_count": 4,
   "metadata": {
    "vscode": {
     "languageId": "polyglot-notebook"
    }
   },
   "outputs": [
    {
     "name": "stdout",
     "output_type": "stream",
     "text": [
      "TaskCanceled\n",
      "Task completed in 3007ms\n"
     ]
    }
   ],
   "source": [
    "using System.Diagnostics;\n",
    "using System.Threading;\n",
    "\n",
    "var cts = new CancellationTokenSource(TimeSpan.FromSeconds(3));\n",
    "var token = cts.Token;\n",
    "\n",
    "var sw = Stopwatch.StartNew();\n",
    "try\n",
    "{\n",
    "    await Task.Delay(10000,token);\n",
    "}\n",
    "catch(TaskCanceledException ex)\n",
    "{\n",
    "    Console.WriteLine(\"TaskCanceled\");\n",
    "}finally\n",
    "{\n",
    "    cts.Dispose();\n",
    "}\n",
    "\n",
    "Console.WriteLine($\"Task completed in {sw.ElapsedMilliseconds}ms\");"
   ]
  },
  {
   "cell_type": "code",
   "execution_count": 5,
   "metadata": {
    "vscode": {
     "languageId": "polyglot-notebook"
    }
   },
   "outputs": [
    {
     "name": "stdout",
     "output_type": "stream",
     "text": [
      "TaskCanceled\n",
      "Task completed in 3005ms\n"
     ]
    }
   ],
   "source": [
    "using System.Diagnostics;\n",
    "using System.Threading;\n",
    "\n",
    "var cts = new CancellationTokenSource();\n",
    "cts.CancelAfter(TimeSpan.FromMilliseconds(3000));\n",
    "var token = cts.Token;\n",
    "\n",
    "var sw = Stopwatch.StartNew();\n",
    "try\n",
    "{\n",
    "    await Task.Delay(10000,token);\n",
    "}\n",
    "catch(TaskCanceledException ex)\n",
    "{\n",
    "    Console.WriteLine(\"TaskCanceled\");\n",
    "}finally\n",
    "{\n",
    "    cts.Dispose();\n",
    "}\n",
    "\n",
    "Console.WriteLine($\"Task completed in {sw.ElapsedMilliseconds}ms\");"
   ]
  },
  {
   "cell_type": "markdown",
   "metadata": {},
   "source": [
    "编写支持取消的方法"
   ]
  },
  {
   "cell_type": "markdown",
   "metadata": {},
   "source": [
    "cts.Cancel() & Token.IsCancellationRequest\n",
    "- Token.ThrowIdCancelllationRequested()"
   ]
  },
  {
   "cell_type": "code",
   "execution_count": null,
   "metadata": {
    "vscode": {
     "languageId": "polyglot-notebook"
    }
   },
   "outputs": [],
   "source": [
    "async Task FooAsync(CancellationToken? cancellationToken = null)\n",
    "{\n",
    "    var token = cancellationToken ?? CancellationToken.None;\n",
    "    await Task.Delay(1000,token);\n",
    "}\n",
    "\n",
    "\n",
    "Task FooAsync3(CancellationToken cancellationToken)\n",
    "{\n",
    "    return Task.Run(() => {\n",
    "        if(cancellationToken.IsCancellationRequested)\n",
    "        {\n",
    "            cancellationToken.ThrowIfCancellationRequested();\n",
    "        }\n",
    "        //判断是否被取消\n",
    "        while(!cancellationToken.IsCancellationRequested)\n",
    "        {\n",
    "            Thread.Sleep(1000);\n",
    "            Console.WriteLine(\"Pooling...\");\n",
    "        }\n",
    "    });\n",
    "}"
   ]
  },
  {
   "cell_type": "markdown",
   "metadata": {},
   "source": [
    "### 任务取消时的对策"
   ]
  },
  {
   "cell_type": "markdown",
   "metadata": {},
   "source": [
    "1. 抛出异常\n",
    "    - OperationCanceledException & TaskCanceledException\n",
    "2. 提前返回\n",
    "    - Task.FromCancelled\n",
    "3. 记得善后\n",
    "    - try catch finally\n",
    "    - Token.Register()"
   ]
  },
  {
   "cell_type": "code",
   "execution_count": null,
   "metadata": {
    "dotnet_interactive": {
     "language": "csharp"
    },
    "polyglot_notebook": {
     "kernelName": "csharp"
    },
    "vscode": {
     "languageId": "polyglot-notebook"
    }
   },
   "outputs": [],
   "source": [
    "Task<string> FooAsync4(CancellationToken cancellationToken)\n",
    "{\n",
    "    var task = new Task(() => {});\n",
    "\n",
    "    if(cancellationToken.IsCancellationRequested)\n",
    "        return Task.FromCanceled<string>(cancellationToken);\n",
    "    return Task.FromResult<string>(\"Done\");\n",
    "}"
   ]
  },
  {
   "cell_type": "code",
   "execution_count": 7,
   "metadata": {
    "vscode": {
     "languageId": "polyglot-notebook"
    }
   },
   "outputs": [
    {
     "name": "stdout",
     "output_type": "stream",
     "text": [
      "Cancellation request in Try Block\n",
      "TaskCanceled\n",
      "Task completed in 3009ms\n",
      "Cancellation request in Main Thread\n"
     ]
    }
   ],
   "source": [
    "using System.Diagnostics;\n",
    "using System.Threading;\n",
    "\n",
    "var cts = new CancellationTokenSource(TimeSpan.FromSeconds(3));\n",
    "var token = cts.Token;\n",
    "//传入委托方法做善后工作\n",
    "token.Register(() => Console.WriteLine(\"Cancellation request in Main Thread\"));\n",
    "\n",
    "var sw = Stopwatch.StartNew();\n",
    "try\n",
    "{\n",
    "    //传入委托方法做善后工作\n",
    "    token.Register(() => Console.WriteLine(\"Cancellation request in Try Block\"));\n",
    "    await Task.Delay(10000,token);\n",
    "}\n",
    "catch(TaskCanceledException ex)\n",
    "{\n",
    "    Console.WriteLine(\"TaskCanceled\");\n",
    "}finally\n",
    "{\n",
    "    cts.Dispose();\n",
    "}\n",
    "\n",
    "Console.WriteLine($\"Task completed in {sw.ElapsedMilliseconds}ms\");"
   ]
  },
  {
   "cell_type": "markdown",
   "metadata": {},
   "source": [
    "### 为Task.Run传入CancellationToken"
   ]
  },
  {
   "cell_type": "code",
   "execution_count": null,
   "metadata": {
    "vscode": {
     "languageId": "polyglot-notebook"
    }
   },
   "outputs": [],
   "source": []
  }
 ],
 "metadata": {
  "kernelspec": {
   "display_name": ".NET (C#)",
   "language": "C#",
   "name": ".net-csharp"
  },
  "language_info": {
   "name": "csharp"
  },
  "polyglot_notebook": {
   "kernelInfo": {
    "defaultKernelName": "csharp",
    "items": [
     {
      "aliases": [],
      "name": "csharp"
     }
    ]
   }
  }
 },
 "nbformat": 4,
 "nbformat_minor": 2
}
