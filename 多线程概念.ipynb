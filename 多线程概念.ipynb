{
 "cells": [
  {
   "cell_type": "markdown",
   "metadata": {},
   "source": [
    "## .NET多线程"
   ]
  },
  {
   "cell_type": "markdown",
   "metadata": {},
   "source": [
    "### 基本概念"
   ]
  },
  {
   "cell_type": "markdown",
   "metadata": {},
   "source": [
    "<font color=\"orange\">什么是线程</font>\n",
    "- 线程时操作系统中能够独立运行的最小单位，也是程序中能够并发执行的一段指令序列\n",
    "- 线程也是进程的一部分，一个进程可以包含多个线程，这些线程共享进程的资源\n",
    "- 进程有入口线程，也可以创建更多的线程"
   ]
  },
  {
   "cell_type": "markdown",
   "metadata": {},
   "source": [
    "<font color=\"orange\">为什么要多线程</font>\n",
    "- 批量重复任务希望同时进行（比如对于数组中的每个元素都进行相同且耗时的操作）\n",
    "- 多个不同任务希望同时进行，互不干扰（比如有多个后台线程需要做轮询等操作）"
   ]
  },
  {
   "cell_type": "markdown",
   "metadata": {},
   "source": [
    "<font color=\"orange\">什么是多线程</font>\n",
    "- 一组预先创建的线程，可以重复使用来执行多个任务\n",
    "- 避免频繁地创建和销毁线程，从而减少了线程创建和销毁的开销\n",
    "- 异步编程默认使用线程池"
   ]
  },
  {
   "cell_type": "markdown",
   "metadata": {},
   "source": [
    "<font color=\"orange\">什么是线程安全</font>\n",
    "- <font color=\"orange\">线程安全</font>\n",
    "    - 多个线程访问共享资源时，对共享资源的访问不会导致数据不一致或不可预期的结果\n",
    "- <font color=\"orange\">同步机制</font>\n",
    "    - 用于协调和控制多个线程之间执行顺序和互斥访问共享资源\n",
    "    - 确保线程按照特定的顺序执行，避免竞态条件和数据不一致的问题\n",
    "- <font color=\"orange\">原子操作</font>\n",
    "    - 在执行过程中不会被中断的操作，不可分割，要么完全执行，要么完全不执行，没有中间状态\n",
    "    - 在多线程环境下，原子操作能够保证数据的一致性和可靠性，避免出现竞态条件和数据竞争的问题"
   ]
  },
  {
   "cell_type": "code",
   "execution_count": 7,
   "metadata": {
    "dotnet_interactive": {
     "language": "csharp"
    },
    "polyglot_notebook": {
     "kernelName": "csharp"
    },
    "vscode": {
     "languageId": "polyglot-notebook"
    }
   },
   "outputs": [
    {
     "name": "stdout",
     "output_type": "stream",
     "text": [
      "Count:2000000\r\n"
     ]
    }
   ],
   "source": [
    "using System.Threading;\n",
    "\n",
    "object lockObj = new object();  //加锁之后可以避免数据不一致的问题\n",
    "const int total = 1000_000;\n",
    "\n",
    "int count = 0;\n",
    "\n",
    "var thread1 = new Thread(ThreadMethod);\n",
    "var thread2 = new Thread(ThreadMethod);\n",
    "\n",
    "thread1.Start();\n",
    "thread2.Start();\n",
    "\n",
    "thread1.Join();\n",
    "thread2.Join();\n",
    "//Count:1356790\n",
    "Console.WriteLine($\"Count:{count}\");\n",
    "\n",
    "void ThreadMethod()\n",
    "{\n",
    "    for(int i = 0; i < total; i++) \n",
    "        Interlocked.Increment(ref count); //原子操作 C#底层提供的方法\n",
    "        //lock(lockObj) count++; //非原子操作\n",
    "}"
   ]
  },
  {
   "cell_type": "code",
   "execution_count": null,
   "metadata": {
    "vscode": {
     "languageId": "polyglot-notebook"
    }
   },
   "outputs": [],
   "source": [
    "using System.Threading;\n",
    "\n",
    "var queue = new Queue<int>();\n",
    "object lockObj = new object();\n",
    "var producer = new Thread(AddNumbers);\n",
    "var consumer1 = new Thread(ReadNumbers);\n",
    "var consumer2 = new Thread(ReadNumbers);\n",
    "\n",
    "producer.Start();\n",
    "consumer1.Start();\n",
    "consumer2.Start();\n",
    "\n",
    "producer.Join();\n",
    "consumer1.Interrupt();\n",
    "consumer2.Interrupt();\n",
    "consumer1.Join();\n",
    "consumer2.Join();\n",
    "\n",
    "void AddNumbers()\n",
    "{\n",
    "    for(int i = 0; i < 20; i++)\n",
    "    {\n",
    "        Thread.Sleep(20);\n",
    "        queue.Enqueue(i);\n",
    "    }\n",
    "}\n",
    "\n",
    "void ReadNumbers()\n",
    "{\n",
    "    try\n",
    "    {\n",
    "        while(true)\n",
    "        {\n",
    "            lock(lockObj)\n",
    "            {\n",
    "                if(queue.TryDequeue(out var res))\n",
    "                    Console.WriteLine(res);\n",
    "            }\n",
    "            Thread.Sleep(1);\n",
    "\n",
    "        }\n",
    "    }\n",
    "    catch(ThreadInterruptedException)\n",
    "    {\n",
    "        Console.WriteLine(\"Thread Interrupted.\");\n",
    "    }\n",
    "}"
   ]
  },
  {
   "cell_type": "markdown",
   "metadata": {},
   "source": [
    "<font color=\"orange\">常用实现方式</font>\n",
    "- 线程\n",
    "- 线程池\n",
    "- 异步编程\n",
    "- 自带方法\n",
    "    - Parallel\n",
    "        - For\n",
    "        - ForEach\n",
    "        - Invoke\n",
    "    - PLINQ\n",
    "        - AsParallel\n",
    "        - AsSequential\n",
    "        - AsOrdered"
   ]
  },
  {
   "cell_type": "code",
   "execution_count": 13,
   "metadata": {
    "vscode": {
     "languageId": "polyglot-notebook"
    }
   },
   "outputs": [
    {
     "name": "stdout",
     "output_type": "stream",
     "text": [
      "Elapsed time: 223ms\n",
      "1, 4, 9, 16, 25, 36, 49, 64, 81, 100, 121, 144, 169, 196, 225, 256, 289, 324, 361, 400, "
     ]
    }
   ],
   "source": [
    "using System.Diagnostics;\n",
    "\n",
    "var inputs = Enumerable.Range(1,20).ToArray();\n",
    "var outputs = new int[inputs.Length];\n",
    "\n",
    "var sw = Stopwatch.StartNew();\n",
    "\n",
    "//串行方式\n",
    "// for(int i = 0; i < inputs.Length; i++)\n",
    "// {\n",
    "//     outputs[i] = HeavyJob(inputs[i]);\n",
    "// }\n",
    "\n",
    "//并行方式\n",
    "//Parallel.For(0,inputs.Length, i => outputs[i] = HeavyJob(inputs[i]));\n",
    "\n",
    "//PLINQ\n",
    "outputs = inputs.AsParallel().Select(x => HeavyJob(x)).ToArray();\n",
    "\n",
    "Console.WriteLine($\"Elapsed time: {sw.ElapsedMilliseconds}ms\");\n",
    "\n",
    "PrintArray(outputs);\n",
    "\n",
    "int HeavyJob(int input)\n",
    "{\n",
    "    Thread.Sleep(100);\n",
    "    return input * input;\n",
    "}\n",
    "\n",
    "void PrintArray<T>(T[] arr){\n",
    "    foreach(var item in arr)\n",
    "        Console.Write($\"{item}, \");\n",
    "}"
   ]
  },
  {
   "cell_type": "markdown",
   "metadata": {},
   "source": [
    "### 线程的使用方法"
   ]
  },
  {
   "cell_type": "markdown",
   "metadata": {},
   "source": [
    "<font color=\"cyan\">线程的创建</font>\n",
    "- 创建Thread实例，并传入ThreadStart委托————还可以配置线程，如是否为后台线程\n",
    "- 调用ThreadStart方法，支持传参"
   ]
  },
  {
   "cell_type": "code",
   "execution_count": 14,
   "metadata": {
    "vscode": {
     "languageId": "polyglot-notebook"
    }
   },
   "outputs": [],
   "source": [
    "var thread1 = new Thread(ThreadMethod1);\n",
    "thread1.Start();\n",
    "\n",
    "var thread2 = new Thread(ThreadMethod2);\n",
    "thread2.Start(123); //可以在这里传参\n",
    "\n",
    "void ThreadMethod1(){}\n",
    "void ThreadMethod2(object? obj){}\n"
   ]
  },
  {
   "cell_type": "markdown",
   "metadata": {
    "vscode": {
     "languageId": "polyglot-notebook"
    }
   },
   "source": [
    "<font color=\"cyan\">线程的终止</font>\n",
    "- 调用Thread.Join 方法，还可以传参\n",
    "- 调用Thread.Interupt 方法，中断线程的执行\n",
    "    - 会在线程中抛出ThreadInterruptedException\n",
    "    - 如果线程中包含一个while(true)循环，那么需要保证包含等待方法，如IO操作，Thread.Sleep等\n",
    "- 不能用Abort? \n",
    "    - 会立刻强制终止线程，可能导致一些严重的问题，包括资源泄露和不可预测的行为\n",
    "    - 较新版本的.NET中如果使用这个方法，会报PlatformNotSupportedException\n",
    "    - 推荐使用Thread.Interrupt或CancellationToken"
   ]
  },
  {
   "cell_type": "code",
   "execution_count": 16,
   "metadata": {
    "dotnet_interactive": {
     "language": "csharp"
    },
    "polyglot_notebook": {
     "kernelName": "csharp"
    },
    "vscode": {
     "languageId": "polyglot-notebook"
    }
   },
   "outputs": [
    {
     "name": "stdout",
     "output_type": "stream",
     "text": [
      "In main thread, waiting for thread to finish...\n",
      "Thread is still running...\n",
      "Thread is still running...\n",
      "Thread is still running...\n",
      "Thread is still running...\n",
      "Thread is still running...\n",
      "Thread is still running...\n",
      "Thread is still running...\n",
      "Thread is still running...\n",
      "Thread is still running...\n",
      "Thread is still running...\n",
      "Thread is still running...\n",
      "Thread is still running...\n",
      "Thread is still running...\n",
      "Thread is still running...\n",
      "Thread is still running...\n",
      "Thread is still running...\n",
      "Thread is still running...\n",
      "Thread is still running...\n",
      "Thread is still running...\n",
      "Thread is still running...\n",
      "Done...\n"
     ]
    }
   ],
   "source": [
    "var th = new Thread(\n",
    "    () => {\n",
    "        for(int i = 0; i < 20; i++)\n",
    "        {\n",
    "            Thread.Sleep(200);\n",
    "            Console.WriteLine(\"Thread is still running...\");\n",
    "        }\n",
    "    }\n",
    "){IsBackground = true, Priority = ThreadPriority.Normal};\n",
    "\n",
    "th.Start();\n",
    "Console.WriteLine(\"In main thread, waiting for thread to finish...\");\n",
    "th.Join();//子线程会在此阻塞主线程\n",
    "Console.WriteLine(\"Done...\");"
   ]
  },
  {
   "cell_type": "code",
   "execution_count": 18,
   "metadata": {
    "vscode": {
     "languageId": "polyglot-notebook"
    }
   },
   "outputs": [
    {
     "name": "stdout",
     "output_type": "stream",
     "text": [
      "In main thread, waiting for thread to finish...\n",
      "Thread is still running...\n",
      "Thread is still running...\n",
      "Thread is still running...\n",
      "Thread is still running...\n",
      "Thread is still running...\n",
      "Thread is Interrupted...\n",
      "Done...\n"
     ]
    }
   ],
   "source": [
    "var th = new Thread(\n",
    "    () => {\n",
    "        try\n",
    "        {\n",
    "            for(int i = 0; i < 20; i++)\n",
    "            {\n",
    "                Thread.Sleep(200);\n",
    "                Console.WriteLine(\"Thread is still running...\");\n",
    "            }\n",
    "        }\n",
    "        catch(ThreadInterruptedException)\n",
    "        {\n",
    "            Console.WriteLine(\"Thread is Interrupted...\");\n",
    "        }\n",
    "        finally{\n",
    "\n",
    "        }\n",
    "}){IsBackground = true, Priority = ThreadPriority.Normal};\n",
    "\n",
    "th.Start();\n",
    "Console.WriteLine(\"In main thread, waiting for thread to finish...\");\n",
    "Thread.Sleep(1000);//让线程执行一秒后结束它\n",
    "th.Interrupt();\n",
    "th.Join();//子线程会在此阻塞主线程\n",
    "Console.WriteLine(\"Done...\");"
   ]
  },
  {
   "cell_type": "markdown",
   "metadata": {},
   "source": [
    "<font color=\"cyan\">线程的挂起与恢复</font>\n",
    "- Thread.Suspend以及Thread.Resume\n",
    "- 较新版本的.NET中，这两个方法已经被标记为Obsolete,且调用会报错\n",
    "- 推荐使用锁、信号量等方式实现这一逻辑"
   ]
  },
  {
   "cell_type": "markdown",
   "metadata": {},
   "source": [
    "### 线程安全与同步机制"
   ]
  },
  {
   "cell_type": "markdown",
   "metadata": {},
   "source": [
    "<font color=\"green\">原子操作</font>"
   ]
  },
  {
   "cell_type": "markdown",
   "metadata": {},
   "source": [
    "<font color=\"green\">锁与信号量</font>\n",
    "- lock & Monitor\n",
    "- Mutex  互斥锁 可以进程间共享\n",
    "- Semaphore  用于线程间的同步,可以进程间共享\n",
    "- WaitHandle\n",
    "    - ManualResetEvent \n",
    "    - AutoResetEvent \n",
    "- ReaderWriterLock 读写锁 允许多个Reader读，只允许一个Writer写，Writer与Reader互斥\n"
   ]
  },
  {
   "cell_type": "code",
   "execution_count": 20,
   "metadata": {
    "vscode": {
     "languageId": "polyglot-notebook"
    }
   },
   "outputs": [
    {
     "name": "stdout",
     "output_type": "stream",
     "text": [
      "Elapsed time: 755ms\n",
      "1, 4, 9, 16, 25, 36, 49, 64, 81, 100, 121, 144, 169, 196, 225, 256, 289, 324, 361, 400, "
     ]
    }
   ],
   "source": [
    "using System.Diagnostics;\n",
    "\n",
    "var inputs = Enumerable.Range(1,20).ToArray();\n",
    "var outputs = new int[inputs.Length];\n",
    "//开始有三个窗口空闲，最多有3个窗口可以通过，窗口都被占满后后续的线程都将被阻塞\n",
    "var semaphore = new Semaphore(3,3);\n",
    "\n",
    "var sw = Stopwatch.StartNew();\n",
    "\n",
    "//串行方式\n",
    "// for(int i = 0; i < inputs.Length; i++)\n",
    "// {\n",
    "//     outputs[i] = HeavyJob(inputs[i]);\n",
    "// }\n",
    "\n",
    "//并行方式\n",
    "//Parallel.For(0,inputs.Length, i => outputs[i] = HeavyJob(inputs[i]));\n",
    "\n",
    "//PLINQ\n",
    "outputs = inputs.AsParallel().Select(x => HeavyJob(x)).ToArray();\n",
    "\n",
    "Console.WriteLine($\"Elapsed time: {sw.ElapsedMilliseconds}ms\");\n",
    "semaphore.Dispose();//用完后要释放\n",
    "PrintArray(outputs);\n",
    "\n",
    "int HeavyJob(int input)\n",
    "{\n",
    "    semaphore.WaitOne();//等待一个空闲窗口\n",
    "    Thread.Sleep(100);\n",
    "    semaphore.Release();//窗口用完后要释放\n",
    "    return input * input;\n",
    "}\n",
    "\n",
    "void PrintArray<T>(T[] arr){\n",
    "    foreach(var item in arr)\n",
    "        Console.Write($\"{item}, \");\n",
    "}"
   ]
  },
  {
   "cell_type": "markdown",
   "metadata": {},
   "source": [
    "<font color=\"green\">轻量型</font>\n",
    "- SemaphoreSlim\n",
    "- ManualResetEventSlim\n",
    "- ReaderWriterLockSlim"
   ]
  },
  {
   "cell_type": "markdown",
   "metadata": {
    "vscode": {
     "languageId": "polyglot-notebook"
    }
   },
   "source": [
    "<font color=\"green\">不要自己造轮子</font>\n",
    "- 线程安全的单例：Lazy\n",
    "- 线程安全的集合类型：ConcurrentBag、ConcurrentStack、ConcurrentQueue、ConcurrentDictionary\n",
    "- 阻塞集合：BlockingCollection\n",
    "- 通道: Channel\n",
    "- 原子操作：Interlocked\n",
    "- 周期任务：PeriodicTimer"
   ]
  },
  {
   "cell_type": "code",
   "execution_count": 22,
   "metadata": {
    "dotnet_interactive": {
     "language": "csharp"
    },
    "polyglot_notebook": {
     "kernelName": "csharp"
    },
    "vscode": {
     "languageId": "polyglot-notebook"
    }
   },
   "outputs": [
    {
     "name": "stdout",
     "output_type": "stream",
     "text": [
      "0\n",
      "1\n",
      "2\n",
      "3\n",
      "4\n",
      "5\n",
      "6\n",
      "7\n",
      "8\n",
      "9\n",
      "10\n",
      "11\n",
      "12\n",
      "13\n",
      "14\n",
      "15\n",
      "16\n",
      "17\n",
      "18\n",
      "19\n",
      "Thread Interrupted.\n",
      "Thread Interrupted.\n"
     ]
    }
   ],
   "source": [
    "using System.Threading;\n",
    "using System.Collections.Concurrent;\n",
    "//线程安全\n",
    "var queue = new ConcurrentQueue<int>();\n",
    "object lockObj = new object();\n",
    "var producer = new Thread(AddNumbers);\n",
    "var consumer1 = new Thread(ReadNumbers);\n",
    "var consumer2 = new Thread(ReadNumbers);\n",
    "\n",
    "producer.Start();\n",
    "consumer1.Start();\n",
    "consumer2.Start();\n",
    "\n",
    "producer.Join();\n",
    "consumer1.Interrupt();\n",
    "consumer2.Interrupt();\n",
    "consumer1.Join();\n",
    "consumer2.Join();\n",
    "\n",
    "void AddNumbers()\n",
    "{\n",
    "    for(int i = 0; i < 20; i++)\n",
    "    {\n",
    "        Thread.Sleep(20);\n",
    "        queue.Enqueue(i);\n",
    "    }\n",
    "}\n",
    "\n",
    "void ReadNumbers()\n",
    "{\n",
    "    try\n",
    "    {\n",
    "        while(true)\n",
    "        {\n",
    "            \n",
    "            if(queue.TryDequeue(out var res))\n",
    "                Console.WriteLine(res);\n",
    "            Thread.Sleep(1);\n",
    "\n",
    "        }\n",
    "    }\n",
    "    catch(ThreadInterruptedException)\n",
    "    {\n",
    "        Console.WriteLine(\"Thread Interrupted.\");\n",
    "    }\n",
    "}"
   ]
  },
  {
   "cell_type": "code",
   "execution_count": null,
   "metadata": {
    "vscode": {
     "languageId": "polyglot-notebook"
    }
   },
   "outputs": [],
   "source": []
  }
 ],
 "metadata": {
  "kernelspec": {
   "display_name": ".NET (C#)",
   "language": "C#",
   "name": ".net-csharp"
  },
  "language_info": {
   "name": "csharp"
  },
  "polyglot_notebook": {
   "kernelInfo": {
    "defaultKernelName": "csharp",
    "items": [
     {
      "aliases": [],
      "name": "csharp"
     }
    ]
   }
  }
 },
 "nbformat": 4,
 "nbformat_minor": 2
}
