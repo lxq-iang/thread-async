{
 "cells": [
  {
   "cell_type": "markdown",
   "metadata": {},
   "source": [
    "## .NET异步编程"
   ]
  },
  {
   "cell_type": "markdown",
   "metadata": {},
   "source": [
    "### 常见概念"
   ]
  },
  {
   "cell_type": "markdown",
   "metadata": {},
   "source": [
    "<font color=\"orange\">已经有多线程了，为何还要异步</font>\n",
    "- 多线程与异步是不同的概念\n",
    "    - 异步并不意味着多线程，单线程同样可以异步\n",
    "    - 异步默认借助线程池\n",
    "    - 多线程经常阻塞，而异步要求不阻塞\n",
    "- 多线程与异步的适用场景不同\n",
    "    - 多线程\n",
    "        - 适合CPU密集型操作\n",
    "        - 适合长期运行的任务\n",
    "        - 线程的创建与销毁开销较大\n",
    "        - 提供更底层的控制，操作线程，锁，信号量等\n",
    "        - 线程不易于传参及返回\n",
    "        - 线程的代码书写较为繁琐\n",
    "    - 异步\n",
    "        - 适合IO密集型操作\n",
    "        - 适合短暂的小任务\n",
    "        - 避免线程阻塞，提高系统响应能力"
   ]
  },
  {
   "cell_type": "markdown",
   "metadata": {},
   "source": [
    "<font color=\"orange\">什么是异步任务（Task）</font>\n",
    "- 包含了异步任务的各种状态的一个引用类型\n",
    "    - 正在运行，完成，结果，报错等\n",
    "    - 另有ValueTask值类型版本\n",
    "- 对于异步任务的抽象\n",
    "    - 开启异步任务后，当前线程并不会阻塞，而是可以去做其他事情\n",
    "    - 异步任务默认会借助线程池在其他线程上运行\n",
    "    - 获取结果后回到之前的状态\n",
    "- 任务的结果\n",
    "    - 返回值为Task的方法表示异步任务没有返回值\n",
    "    - 返回值为Task<T>则表示返回值类型为T的Task"
   ]
  },
  {
   "cell_type": "code",
   "execution_count": 2,
   "metadata": {
    "dotnet_interactive": {
     "language": "csharp"
    },
    "polyglot_notebook": {
     "kernelName": "csharp"
    },
    "vscode": {
     "languageId": "polyglot-notebook"
    }
   },
   "outputs": [
    {
     "data": {
      "text/html": [
       "<span>Created</span>"
      ]
     },
     "metadata": {},
     "output_type": "display_data"
    },
    {
     "data": {
      "text/html": [
       "<span>WaitingToRun</span>"
      ]
     },
     "metadata": {},
     "output_type": "display_data"
    },
    {
     "data": {
      "text/html": [
       "<span>Running</span>"
      ]
     },
     "metadata": {},
     "output_type": "display_data"
    },
    {
     "data": {
      "text/html": [
       "<span>RanToCompletion</span>"
      ]
     },
     "metadata": {},
     "output_type": "display_data"
    },
    {
     "data": {
      "text/plain": [
       "done"
      ]
     },
     "metadata": {},
     "output_type": "display_data"
    }
   ],
   "source": [
    "using System.Threading;\n",
    "var task = new Task<string>(() => \n",
    "{\n",
    "    Thread.Sleep(1500);\n",
    "    return \"done\";\n",
    "});\n",
    "\n",
    "task.Status.Display();\n",
    "task.Start();\n",
    "task.Status.Display();\n",
    "Thread.Sleep(1000);\n",
    "task.Status.Display();\n",
    "Thread.Sleep(2000);\n",
    "task.Status.Display();\n",
    "task.Result.Display();"
   ]
  },
  {
   "cell_type": "markdown",
   "metadata": {},
   "source": [
    "<font color=\"orange\">异步方法</font>\n",
    "- 将方法标记为async后，可以在方法内使用await关键字\n",
    "- await关键字会等待异步任务的结束并获得结果\n",
    "- async + await会将方法包装成状态机，await类似于检查点 ———— MoveNext方法会被底层调用，从而切换状态\n",
    "- async Task\n",
    "    - 返回值依旧是Task类型，但是在其中可以使用await关键字\n",
    "    - 在其中写返回值可以直接写Task<T>中的T类型，不用包装成Task<T>\n",
    "- async void \n",
    "    - 同样是状态机，但缺少记录状态的Task对象\n",
    "    - 无法聚合异常（Aggregate Exception），需要谨慎处理异常\n",
    "    - 几乎只用于对于事件的注册\n",
    "- 异步编程具有传染性\n",
    "    - 一处async，处处async\n",
    "    - 几乎所有自带方法都提供了异步的版本\n",
    "    \n",
    "    "
   ]
  },
  {
   "cell_type": "code",
   "execution_count": 7,
   "metadata": {
    "dotnet_interactive": {
     "language": "csharp"
    },
    "polyglot_notebook": {
     "kernelName": "csharp"
    },
    "vscode": {
     "languageId": "polyglot-notebook"
    }
   },
   "outputs": [
    {
     "data": {
      "text/plain": [
       "1: <Initialize>@ Before"
      ]
     },
     "metadata": {},
     "output_type": "display_data"
    },
    {
     "data": {
      "text/html": [
       "<div class=\"dni-plaintext\"><pre>10</pre></div><style>\r\n",
       ".dni-code-hint {\r\n",
       "    font-style: italic;\r\n",
       "    overflow: hidden;\r\n",
       "    white-space: nowrap;\r\n",
       "}\r\n",
       ".dni-treeview {\r\n",
       "    white-space: nowrap;\r\n",
       "}\r\n",
       ".dni-treeview td {\r\n",
       "    vertical-align: top;\r\n",
       "    text-align: start;\r\n",
       "}\r\n",
       "details.dni-treeview {\r\n",
       "    padding-left: 1em;\r\n",
       "}\r\n",
       "table td {\r\n",
       "    text-align: start;\r\n",
       "}\r\n",
       "table tr { \r\n",
       "    vertical-align: top; \r\n",
       "    margin: 0em 0px;\r\n",
       "}\r\n",
       "table tr td pre \r\n",
       "{ \r\n",
       "    vertical-align: top !important; \r\n",
       "    margin: 0em 0px !important;\r\n",
       "} \r\n",
       "table th {\r\n",
       "    text-align: start;\r\n",
       "}\r\n",
       "</style>"
      ]
     },
     "metadata": {},
     "output_type": "display_data"
    },
    {
     "data": {
      "text/plain": [
       "2: FooAsync@ Before"
      ]
     },
     "metadata": {},
     "output_type": "display_data"
    },
    {
     "data": {
      "text/html": [
       "<div class=\"dni-plaintext\"><pre>10</pre></div><style>\r\n",
       ".dni-code-hint {\r\n",
       "    font-style: italic;\r\n",
       "    overflow: hidden;\r\n",
       "    white-space: nowrap;\r\n",
       "}\r\n",
       ".dni-treeview {\r\n",
       "    white-space: nowrap;\r\n",
       "}\r\n",
       ".dni-treeview td {\r\n",
       "    vertical-align: top;\r\n",
       "    text-align: start;\r\n",
       "}\r\n",
       "details.dni-treeview {\r\n",
       "    padding-left: 1em;\r\n",
       "}\r\n",
       "table td {\r\n",
       "    text-align: start;\r\n",
       "}\r\n",
       "table tr { \r\n",
       "    vertical-align: top; \r\n",
       "    margin: 0em 0px;\r\n",
       "}\r\n",
       "table tr td pre \r\n",
       "{ \r\n",
       "    vertical-align: top !important; \r\n",
       "    margin: 0em 0px !important;\r\n",
       "} \r\n",
       "table th {\r\n",
       "    text-align: start;\r\n",
       "}\r\n",
       "</style>"
      ]
     },
     "metadata": {},
     "output_type": "display_data"
    },
    {
     "data": {
      "text/plain": [
       "3: FooAsync@ After"
      ]
     },
     "metadata": {},
     "output_type": "display_data"
    },
    {
     "data": {
      "text/html": [
       "<div class=\"dni-plaintext\"><pre>53</pre></div><style>\r\n",
       ".dni-code-hint {\r\n",
       "    font-style: italic;\r\n",
       "    overflow: hidden;\r\n",
       "    white-space: nowrap;\r\n",
       "}\r\n",
       ".dni-treeview {\r\n",
       "    white-space: nowrap;\r\n",
       "}\r\n",
       ".dni-treeview td {\r\n",
       "    vertical-align: top;\r\n",
       "    text-align: start;\r\n",
       "}\r\n",
       "details.dni-treeview {\r\n",
       "    padding-left: 1em;\r\n",
       "}\r\n",
       "table td {\r\n",
       "    text-align: start;\r\n",
       "}\r\n",
       "table tr { \r\n",
       "    vertical-align: top; \r\n",
       "    margin: 0em 0px;\r\n",
       "}\r\n",
       "table tr td pre \r\n",
       "{ \r\n",
       "    vertical-align: top !important; \r\n",
       "    margin: 0em 0px !important;\r\n",
       "} \r\n",
       "table th {\r\n",
       "    text-align: start;\r\n",
       "}\r\n",
       "</style>"
      ]
     },
     "metadata": {},
     "output_type": "display_data"
    },
    {
     "data": {
      "text/plain": [
       "4: <Initialize>@ After"
      ]
     },
     "metadata": {},
     "output_type": "display_data"
    },
    {
     "data": {
      "text/html": [
       "<div class=\"dni-plaintext\"><pre>53</pre></div><style>\r\n",
       ".dni-code-hint {\r\n",
       "    font-style: italic;\r\n",
       "    overflow: hidden;\r\n",
       "    white-space: nowrap;\r\n",
       "}\r\n",
       ".dni-treeview {\r\n",
       "    white-space: nowrap;\r\n",
       "}\r\n",
       ".dni-treeview td {\r\n",
       "    vertical-align: top;\r\n",
       "    text-align: start;\r\n",
       "}\r\n",
       "details.dni-treeview {\r\n",
       "    padding-left: 1em;\r\n",
       "}\r\n",
       "table td {\r\n",
       "    text-align: start;\r\n",
       "}\r\n",
       "table tr { \r\n",
       "    vertical-align: top; \r\n",
       "    margin: 0em 0px;\r\n",
       "}\r\n",
       "table tr td pre \r\n",
       "{ \r\n",
       "    vertical-align: top !important; \r\n",
       "    margin: 0em 0px !important;\r\n",
       "} \r\n",
       "table th {\r\n",
       "    text-align: start;\r\n",
       "}\r\n",
       "</style>"
      ]
     },
     "metadata": {},
     "output_type": "display_data"
    }
   ],
   "source": [
    "using System.Runtime.CompilerServices;\n",
    "\n",
    "Helper.PrintThreadId(\"Before\");\n",
    "await FooAsync();\n",
    "Helper.PrintThreadId(\"After\");\n",
    "\n",
    "async Task FooAsync()\n",
    "{\n",
    "    Helper.PrintThreadId(\"Before\");\n",
    "    await Task.Delay(1000);\n",
    "    Helper.PrintThreadId(\"After\");\n",
    "}\n",
    "\n",
    "class Helper\n",
    "{\n",
    "    private static int index = 1;\n",
    "    public static void PrintThreadId(string? message = null, [CallerMemberName] string? name = null)\n",
    "    {\n",
    "        var title = $\"{index}: {name}\";\n",
    "        if(!string.IsNullOrEmpty(message))\n",
    "            title += $\"@ {message}\";\n",
    "        title.Display();\n",
    "        Environment.CurrentManagedThreadId.Display();\n",
    "        Interlocked.Increment(ref index);\n",
    "    }\n",
    "}"
   ]
  },
  {
   "cell_type": "markdown",
   "metadata": {},
   "source": [
    "<font color=\"orange\">重要思想：不阻塞！</font>\n",
    "- await会暂时释放当前线程，使得线程可以执行其他工作，而不必阻塞线程直到异步操作完成\n",
    "- 不要在异步方法里用任何方式阻塞当前线程\n",
    "- Task.Wait() & Task.Result\n",
    "    - 如果任务没有完成，则会阻塞当前线程，容易导致死锁 \n",
    "    - Task.GetAwaiter().GetResult()  —— —— 不会将Exception包装为AggregateException\n",
    "- Task.Delay() vs. Thread.Sleep()\n",
    "    - 后者会阻塞当前的线程，这与异步编程的理念不符\n",
    "    - 前者是一个异步任务，会立刻释放当前的线程\n",
    "- IO等操作的同步方法\n",
    "- 其他繁重且耗时的任务"
   ]
  },
  {
   "cell_type": "markdown",
   "metadata": {
    "vscode": {
     "languageId": "polyglot-notebook"
    }
   },
   "source": [
    "<font color=\"orange\">同步上下文</font>\n",
    "- 一种管理和协调线程的机制，允许开发者将代码的执行切换到特定的线程\n",
    "- WinForms与WPF拥有同步上下文（UI线程），而控制台程序默认没有\n",
    "- ConfigureAwait(false)\n",
    "    - 配置任务通过await方法结束后是否会到原来的线程，默认为true\n",
    "    - 一般只有UI线程会采用这种策略\n",
    "- TaskScheduler\n",
    "    - 控制Task的调度方式和运行线程\n",
    "        - 线程池线程Default\n",
    "        - 当前线程CurrentThread\n",
    "        - 单线程上下文STAThread\n",
    "        - 长时间运行线程LongRunning\n",
    "    - 优先级，上下文，执行状态等\n",
    "    "
   ]
  },
  {
   "cell_type": "markdown",
   "metadata": {},
   "source": [
    "<font color=\"orange\">一发既忘（Fire-and-forget）</font>\n",
    "- 调用一个异步方法、但是并不使用await或阻塞的方式去等待它的结束\n",
    "- 无法观察任务的状态（是否完成、是否报错等）\n"
   ]
  },
  {
   "cell_type": "markdown",
   "metadata": {},
   "source": [
    "### 简单任务"
   ]
  },
  {
   "cell_type": "markdown",
   "metadata": {},
   "source": [
    "<font color=\"green\">如何创建异步任务</font>\n",
    "- Task.Run()\n",
    "- Task.Factory.StartNew()\n",
    "    - 提供了更多功能，比如TaskCreationOpentions.LongRunning\n",
    "    - Task.Run相当于简化版\n",
    "- new Task + Task.Start()"
   ]
  },
  {
   "cell_type": "code",
   "execution_count": 10,
   "metadata": {
    "dotnet_interactive": {
     "language": "csharp"
    },
    "polyglot_notebook": {
     "kernelName": "csharp"
    },
    "vscode": {
     "languageId": "polyglot-notebook"
    }
   },
   "outputs": [
    {
     "data": {
      "text/csv": [
       "value\r\n",
       "1\r\n",
       "4\r\n",
       "9\r\n",
       "16\r\n",
       "25\r\n",
       "36\r\n",
       "49\r\n",
       "64\r\n",
       "81\r\n",
       "100\r\n"
      ],
      "text/html": [
       "<table><thead><tr><td><span>value</span></td></tr></thead><tbody><tr><td><div class=\"dni-plaintext\"><pre>1</pre></div></td></tr><tr><td><div class=\"dni-plaintext\"><pre>4</pre></div></td></tr><tr><td><div class=\"dni-plaintext\"><pre>9</pre></div></td></tr><tr><td><div class=\"dni-plaintext\"><pre>16</pre></div></td></tr><tr><td><div class=\"dni-plaintext\"><pre>25</pre></div></td></tr><tr><td><div class=\"dni-plaintext\"><pre>36</pre></div></td></tr><tr><td><div class=\"dni-plaintext\"><pre>49</pre></div></td></tr><tr><td><div class=\"dni-plaintext\"><pre>64</pre></div></td></tr><tr><td><div class=\"dni-plaintext\"><pre>81</pre></div></td></tr><tr><td><div class=\"dni-plaintext\"><pre>100</pre></div></td></tr></tbody></table><style>\r\n",
       ".dni-code-hint {\r\n",
       "    font-style: italic;\r\n",
       "    overflow: hidden;\r\n",
       "    white-space: nowrap;\r\n",
       "}\r\n",
       ".dni-treeview {\r\n",
       "    white-space: nowrap;\r\n",
       "}\r\n",
       ".dni-treeview td {\r\n",
       "    vertical-align: top;\r\n",
       "    text-align: start;\r\n",
       "}\r\n",
       "details.dni-treeview {\r\n",
       "    padding-left: 1em;\r\n",
       "}\r\n",
       "table td {\r\n",
       "    text-align: start;\r\n",
       "}\r\n",
       "table tr { \r\n",
       "    vertical-align: top; \r\n",
       "    margin: 0em 0px;\r\n",
       "}\r\n",
       "table tr td pre \r\n",
       "{ \r\n",
       "    vertical-align: top !important; \r\n",
       "    margin: 0em 0px !important;\r\n",
       "} \r\n",
       "table th {\r\n",
       "    text-align: start;\r\n",
       "}\r\n",
       "</style>"
      ]
     },
     "metadata": {},
     "output_type": "display_data"
    }
   ],
   "source": [
    "var inputs = Enumerable.Range(1,10).ToArray();\n",
    "\n",
    "var tasks = new List<Task<int>>();\n",
    "\n",
    "foreach(var input in inputs)\n",
    "{\n",
    "    tasks.Add(HeavyJob(input));\n",
    "}\n",
    "await Task.WhenAll(tasks); //防止阻塞主线程\n",
    "\n",
    "var outputs = tasks.Select(_ => _.Result).ToArray();\n",
    "outputs.DisplayTable();\n",
    "\n",
    "async Task<int> HeavyJob(int input)\n",
    "{\n",
    "    await Task.Delay(1000);\n",
    "    return input * input;\n",
    "}"
   ]
  },
  {
   "cell_type": "markdown",
   "metadata": {},
   "source": [
    "<font color=\"green\">任务的取消</font>\n",
    "- CancellationTokenSource + CancellationToken\n",
    "- OperationCanceledException & TaskCanceledException\n",
    "- 推荐异步方法都带上CancellationToken这一传参，可以不用，但不能没有"
   ]
  },
  {
   "cell_type": "code",
   "execution_count": 13,
   "metadata": {
    "dotnet_interactive": {
     "language": "csharp"
    },
    "polyglot_notebook": {
     "kernelName": "csharp"
    },
    "vscode": {
     "languageId": "polyglot-notebook"
    }
   },
   "outputs": [
    {
     "data": {
      "text/plain": [
       "TaskCanceled"
      ]
     },
     "metadata": {},
     "output_type": "display_data"
    }
   ],
   "source": [
    "var cts = new CancellationTokenSource();\n",
    "try\n",
    "{\n",
    "    var task = Task.Delay(10000,cts.Token);\n",
    "    Thread.Sleep(2000);\n",
    "    cts.Cancel();\n",
    "\n",
    "    await task;\n",
    "}\n",
    "catch(TaskCanceledException ex)\n",
    "{\n",
    "    \"TaskCanceled\".Display();\n",
    "}\n",
    "finally\n",
    "{\n",
    "    cts.Dispose();\n",
    "}"
   ]
  },
  {
   "cell_type": "markdown",
   "metadata": {},
   "source": [
    "### 常见误区"
   ]
  },
  {
   "cell_type": "markdown",
   "metadata": {
    "vscode": {
     "languageId": "polyglot-notebook"
    }
   },
   "source": [
    "<font color=\"yellow\">异步一定是多线程？</font>\n",
    "- 异步编程不是必须多线程来实现 —— 时间片轮转\n",
    "- 比如可以在单个线程上使用异步IO或事件驱动的编程模型（EAP）\n",
    "- 单线程异步：自己定好计时器，到时间之前先去做别的事情\n",
    "- 多线程异步: 将任务交给不同的线程，并由自己来进行指挥调度\n"
   ]
  },
  {
   "cell_type": "markdown",
   "metadata": {},
   "source": [
    "<font color=\"yellow\">异步方法一定要写成async Task？</font>\n",
    "- async 关键字只是用来配合await使用，从而将方法包装为状态机\n",
    "- 本质上仍然是Task，只不过提供了语法糖，并且函数体中可以直接return Task的泛型类型\n",
    "- 接口中无法声明async Task"
   ]
  },
  {
   "cell_type": "markdown",
   "metadata": {},
   "source": [
    "<font color=\"yellow\">await一定会切换同步上下文？</font>\n",
    "- 在使用await关键字调用并等待一个异步任务时，异步方法不一定会立刻来到新的线程上\n",
    "- 如果await了一个已经完成的任务（包括Task.Delay(0)），会直接获得结果"
   ]
  },
  {
   "cell_type": "markdown",
   "metadata": {},
   "source": [
    "<font color=\"yellow\">异步可以全面取代多线程？</font>\n",
    "- 异步编程与多线程有一定的关系，但两者并不是可以完全相互取代"
   ]
  },
  {
   "cell_type": "markdown",
   "metadata": {},
   "source": [
    "<font color=\"yellow\">Task.Result一定会阻塞当前线程？</font>\n",
    "- 如果任务已经完成，那么Task.Result可以直接得到结果"
   ]
  },
  {
   "cell_type": "markdown",
   "metadata": {},
   "source": [
    "<font color=\"yellow\">开启的异步任务一定不会阻塞当前线程？</font>\n",
    "- 若异步方法里增加了异步方法，则会阻塞当前线程"
   ]
  },
  {
   "cell_type": "markdown",
   "metadata": {},
   "source": [
    "### 异步编程的同步机制"
   ]
  },
  {
   "cell_type": "code",
   "execution_count": 16,
   "metadata": {
    "dotnet_interactive": {
     "language": "csharp"
    },
    "polyglot_notebook": {
     "kernelName": "csharp"
    },
    "vscode": {
     "languageId": "polyglot-notebook"
    }
   },
   "outputs": [
    {
     "data": {
      "text/csv": [
       "value\r\n",
       "1\r\n",
       "4\r\n",
       "9\r\n",
       "16\r\n",
       "25\r\n",
       "36\r\n",
       "49\r\n",
       "64\r\n",
       "81\r\n",
       "100\r\n"
      ],
      "text/html": [
       "<table><thead><tr><td><span>value</span></td></tr></thead><tbody><tr><td><div class=\"dni-plaintext\"><pre>1</pre></div></td></tr><tr><td><div class=\"dni-plaintext\"><pre>4</pre></div></td></tr><tr><td><div class=\"dni-plaintext\"><pre>9</pre></div></td></tr><tr><td><div class=\"dni-plaintext\"><pre>16</pre></div></td></tr><tr><td><div class=\"dni-plaintext\"><pre>25</pre></div></td></tr><tr><td><div class=\"dni-plaintext\"><pre>36</pre></div></td></tr><tr><td><div class=\"dni-plaintext\"><pre>49</pre></div></td></tr><tr><td><div class=\"dni-plaintext\"><pre>64</pre></div></td></tr><tr><td><div class=\"dni-plaintext\"><pre>81</pre></div></td></tr><tr><td><div class=\"dni-plaintext\"><pre>100</pre></div></td></tr></tbody></table><style>\r\n",
       ".dni-code-hint {\r\n",
       "    font-style: italic;\r\n",
       "    overflow: hidden;\r\n",
       "    white-space: nowrap;\r\n",
       "}\r\n",
       ".dni-treeview {\r\n",
       "    white-space: nowrap;\r\n",
       "}\r\n",
       ".dni-treeview td {\r\n",
       "    vertical-align: top;\r\n",
       "    text-align: start;\r\n",
       "}\r\n",
       "details.dni-treeview {\r\n",
       "    padding-left: 1em;\r\n",
       "}\r\n",
       "table td {\r\n",
       "    text-align: start;\r\n",
       "}\r\n",
       "table tr { \r\n",
       "    vertical-align: top; \r\n",
       "    margin: 0em 0px;\r\n",
       "}\r\n",
       "table tr td pre \r\n",
       "{ \r\n",
       "    vertical-align: top !important; \r\n",
       "    margin: 0em 0px !important;\r\n",
       "} \r\n",
       "table th {\r\n",
       "    text-align: start;\r\n",
       "}\r\n",
       "</style>"
      ]
     },
     "metadata": {},
     "output_type": "display_data"
    }
   ],
   "source": [
    "var inputs = Enumerable.Range(1,10).ToArray();\n",
    "var sam = new SemaphoreSlim(2,2); //通过Semaphore实现同步\n",
    "var tasks = new List<Task<int>>();\n",
    "\n",
    "foreach(var input in inputs)\n",
    "{\n",
    "    tasks.Add(HeavyJob(input));\n",
    "}\n",
    "await Task.WhenAll(tasks); //防止阻塞主线程\n",
    "\n",
    "var outputs = tasks.Select(_ => _.Result).ToArray();\n",
    "outputs.DisplayTable();\n",
    "\n",
    "async Task<int> HeavyJob(int input)\n",
    "{\n",
    "    await sam.WaitAsync(); //等待一个通行证\n",
    "    await Task.Delay(1000);\n",
    "    sam.Release();\n",
    "    return input * input;\n",
    "}"
   ]
  },
  {
   "cell_type": "code",
   "execution_count": null,
   "metadata": {
    "dotnet_interactive": {
     "language": "csharp"
    },
    "polyglot_notebook": {
     "kernelName": "csharp"
    },
    "vscode": {
     "languageId": "polyglot-notebook"
    }
   },
   "outputs": [],
   "source": []
  }
 ],
 "metadata": {
  "kernelspec": {
   "display_name": ".NET (C#)",
   "language": "C#",
   "name": ".net-csharp"
  },
  "language_info": {
   "name": "csharp"
  },
  "polyglot_notebook": {
   "kernelInfo": {
    "defaultKernelName": "csharp",
    "items": [
     {
      "aliases": [],
      "name": "csharp"
     }
    ]
   }
  }
 },
 "nbformat": 4,
 "nbformat_minor": 2
}
